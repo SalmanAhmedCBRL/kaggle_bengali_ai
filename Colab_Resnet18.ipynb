{
  "nbformat": 4,
  "nbformat_minor": 0,
  "metadata": {
    "colab": {
      "name": "Colab_Resnet18.ipynb",
      "provenance": [],
      "collapsed_sections": []
    },
    "kernelspec": {
      "name": "python3",
      "display_name": "Python 3"
    },
    "accelerator": "GPU"
  },
  "cells": [
    {
      "cell_type": "code",
      "metadata": {
        "id": "LuTYGrqhfwyc",
        "colab_type": "code",
        "colab": {
          "base_uri": "https://localhost:8080/",
          "height": 122
        },
        "outputId": "688eb2ae-649d-4a0d-b805-dfc8bceb3cb2"
      },
      "source": [
        "from google.colab import drive\n",
        "drive.mount('/content/gdrive')"
      ],
      "execution_count": 1,
      "outputs": [
        {
          "output_type": "stream",
          "text": [
            "Go to this URL in a browser: https://accounts.google.com/o/oauth2/auth?client_id=947318989803-6bn6qk8qdgf4n4g3pfee6491hc0brc4i.apps.googleusercontent.com&redirect_uri=urn%3aietf%3awg%3aoauth%3a2.0%3aoob&response_type=code&scope=email%20https%3a%2f%2fwww.googleapis.com%2fauth%2fdocs.test%20https%3a%2f%2fwww.googleapis.com%2fauth%2fdrive%20https%3a%2f%2fwww.googleapis.com%2fauth%2fdrive.photos.readonly%20https%3a%2f%2fwww.googleapis.com%2fauth%2fpeopleapi.readonly\n",
            "\n",
            "Enter your authorization code:\n",
            "··········\n",
            "Mounted at /content/gdrive\n"
          ],
          "name": "stdout"
        }
      ]
    },
    {
      "cell_type": "code",
      "metadata": {
        "id": "oFB6Mzxihyrb",
        "colab_type": "code",
        "colab": {
          "base_uri": "https://localhost:8080/",
          "height": 292
        },
        "outputId": "0efe0853-2153-4b81-d280-92e165b11417"
      },
      "source": [
        "!pip install git+https://github.com/qubvel/classification_models.git"
      ],
      "execution_count": 3,
      "outputs": [
        {
          "output_type": "stream",
          "text": [
            "Collecting git+https://github.com/qubvel/classification_models.git\n",
            "  Cloning https://github.com/qubvel/classification_models.git to /tmp/pip-req-build-5r2x8th3\n",
            "  Running command git clone -q https://github.com/qubvel/classification_models.git /tmp/pip-req-build-5r2x8th3\n",
            "  Running command git submodule update --init --recursive -q\n",
            "Requirement already satisfied: keras_applications<=1.0.8,>=1.0.7 in /usr/local/lib/python3.6/dist-packages (from image-classifiers==1.0.0) (1.0.8)\n",
            "Requirement already satisfied: h5py in /usr/local/lib/python3.6/dist-packages (from keras_applications<=1.0.8,>=1.0.7->image-classifiers==1.0.0) (2.8.0)\n",
            "Requirement already satisfied: numpy>=1.9.1 in /usr/local/lib/python3.6/dist-packages (from keras_applications<=1.0.8,>=1.0.7->image-classifiers==1.0.0) (1.17.5)\n",
            "Requirement already satisfied: six in /usr/local/lib/python3.6/dist-packages (from h5py->keras_applications<=1.0.8,>=1.0.7->image-classifiers==1.0.0) (1.12.0)\n",
            "Building wheels for collected packages: image-classifiers\n",
            "  Building wheel for image-classifiers (setup.py) ... \u001b[?25l\u001b[?25hdone\n",
            "  Created wheel for image-classifiers: filename=image_classifiers-1.0.0-cp36-none-any.whl size=20032 sha256=5a0c5df7f797827343394cb8f6449b3a8b16a1d504514b0eef7a12c1bd0ddd69\n",
            "  Stored in directory: /tmp/pip-ephem-wheel-cache-ekh19vi7/wheels/de/2b/fd/29a6d33edb8c28bc7d94e95ea1d39c9a218ac500a3cfb1b197\n",
            "Successfully built image-classifiers\n",
            "Installing collected packages: image-classifiers\n",
            "Successfully installed image-classifiers-1.0.0\n"
          ],
          "name": "stdout"
        }
      ]
    },
    {
      "cell_type": "code",
      "metadata": {
        "id": "AEWhoCoGh3w-",
        "colab_type": "code",
        "colab": {
          "base_uri": "https://localhost:8080/",
          "height": 394
        },
        "outputId": "0d9a88d1-1bff-43d5-8a91-cdbae4abc9d0"
      },
      "source": [
        "!pip install efficientnet"
      ],
      "execution_count": 5,
      "outputs": [
        {
          "output_type": "stream",
          "text": [
            "Collecting efficientnet\n",
            "  Downloading https://files.pythonhosted.org/packages/28/91/67848a143b54c331605bfba5fd31cf4e9db13d2e429d103fe807acc3bcf4/efficientnet-1.1.0-py3-none-any.whl\n",
            "Requirement already satisfied: keras-applications<=1.0.8,>=1.0.7 in /usr/local/lib/python3.6/dist-packages (from efficientnet) (1.0.8)\n",
            "Requirement already satisfied: scikit-image in /usr/local/lib/python3.6/dist-packages (from efficientnet) (0.16.2)\n",
            "Requirement already satisfied: h5py in /usr/local/lib/python3.6/dist-packages (from keras-applications<=1.0.8,>=1.0.7->efficientnet) (2.8.0)\n",
            "Requirement already satisfied: numpy>=1.9.1 in /usr/local/lib/python3.6/dist-packages (from keras-applications<=1.0.8,>=1.0.7->efficientnet) (1.17.5)\n",
            "Requirement already satisfied: PyWavelets>=0.4.0 in /usr/local/lib/python3.6/dist-packages (from scikit-image->efficientnet) (1.1.1)\n",
            "Requirement already satisfied: pillow>=4.3.0 in /usr/local/lib/python3.6/dist-packages (from scikit-image->efficientnet) (6.2.2)\n",
            "Requirement already satisfied: networkx>=2.0 in /usr/local/lib/python3.6/dist-packages (from scikit-image->efficientnet) (2.4)\n",
            "Requirement already satisfied: scipy>=0.19.0 in /usr/local/lib/python3.6/dist-packages (from scikit-image->efficientnet) (1.4.1)\n",
            "Requirement already satisfied: imageio>=2.3.0 in /usr/local/lib/python3.6/dist-packages (from scikit-image->efficientnet) (2.4.1)\n",
            "Requirement already satisfied: matplotlib!=3.0.0,>=2.0.0 in /usr/local/lib/python3.6/dist-packages (from scikit-image->efficientnet) (3.1.3)\n",
            "Requirement already satisfied: six in /usr/local/lib/python3.6/dist-packages (from h5py->keras-applications<=1.0.8,>=1.0.7->efficientnet) (1.12.0)\n",
            "Requirement already satisfied: decorator>=4.3.0 in /usr/local/lib/python3.6/dist-packages (from networkx>=2.0->scikit-image->efficientnet) (4.4.1)\n",
            "Requirement already satisfied: pyparsing!=2.0.4,!=2.1.2,!=2.1.6,>=2.0.1 in /usr/local/lib/python3.6/dist-packages (from matplotlib!=3.0.0,>=2.0.0->scikit-image->efficientnet) (2.4.6)\n",
            "Requirement already satisfied: python-dateutil>=2.1 in /usr/local/lib/python3.6/dist-packages (from matplotlib!=3.0.0,>=2.0.0->scikit-image->efficientnet) (2.6.1)\n",
            "Requirement already satisfied: kiwisolver>=1.0.1 in /usr/local/lib/python3.6/dist-packages (from matplotlib!=3.0.0,>=2.0.0->scikit-image->efficientnet) (1.1.0)\n",
            "Requirement already satisfied: cycler>=0.10 in /usr/local/lib/python3.6/dist-packages (from matplotlib!=3.0.0,>=2.0.0->scikit-image->efficientnet) (0.10.0)\n",
            "Requirement already satisfied: setuptools in /usr/local/lib/python3.6/dist-packages (from kiwisolver>=1.0.1->matplotlib!=3.0.0,>=2.0.0->scikit-image->efficientnet) (45.1.0)\n",
            "Installing collected packages: efficientnet\n",
            "Successfully installed efficientnet-1.1.0\n"
          ],
          "name": "stdout"
        }
      ]
    },
    {
      "cell_type": "code",
      "metadata": {
        "id": "uHTzR8mziDhT",
        "colab_type": "code",
        "colab": {
          "base_uri": "https://localhost:8080/",
          "height": 153
        },
        "outputId": "027f23c9-97e8-4622-9966-537818f043ee"
      },
      "source": [
        "!pip install iterative-stratification"
      ],
      "execution_count": 7,
      "outputs": [
        {
          "output_type": "stream",
          "text": [
            "Collecting iterative-stratification\n",
            "  Downloading https://files.pythonhosted.org/packages/9d/79/9ba64c8c07b07b8b45d80725b2ebd7b7884701c1da34f70d4749f7b45f9a/iterative_stratification-0.1.6-py3-none-any.whl\n",
            "Requirement already satisfied: scipy in /usr/local/lib/python3.6/dist-packages (from iterative-stratification) (1.4.1)\n",
            "Requirement already satisfied: scikit-learn in /usr/local/lib/python3.6/dist-packages (from iterative-stratification) (0.22.1)\n",
            "Requirement already satisfied: numpy in /usr/local/lib/python3.6/dist-packages (from iterative-stratification) (1.17.5)\n",
            "Requirement already satisfied: joblib>=0.11 in /usr/local/lib/python3.6/dist-packages (from scikit-learn->iterative-stratification) (0.14.1)\n",
            "Installing collected packages: iterative-stratification\n",
            "Successfully installed iterative-stratification-0.1.6\n"
          ],
          "name": "stdout"
        }
      ]
    },
    {
      "cell_type": "code",
      "metadata": {
        "id": "nIl4QhFChEEI",
        "colab_type": "code",
        "colab": {
          "base_uri": "https://localhost:8080/",
          "height": 80
        },
        "outputId": "e088ddf5-774e-4705-a23e-c5c3eb300986"
      },
      "source": [
        "import pandas as pd\n",
        "import numpy as np\n",
        "import os\n",
        "import gc\n",
        "from classification_models.keras import Classifiers\n",
        "import efficientnet\n",
        "from keras.layers import GlobalAveragePooling2D, GlobalMaxPooling2D, Dense, Dropout, BatchNormalization, concatenate\n",
        "from keras.models import Model\n",
        "from iterstrat.ml_stratifiers import MultilabelStratifiedKFold\n",
        "import keras\n",
        "from keras.callbacks import ReduceLROnPlateau, ModelCheckpoint\n",
        "import albumentations\n",
        "from tqdm import tqdm\n",
        "import warnings\n",
        "from albumentations import Resize, CenterCrop, Rotate, HorizontalFlip, VerticalFlip, OneOf, Compose, ShiftScaleRotate"
      ],
      "execution_count": 1,
      "outputs": [
        {
          "output_type": "stream",
          "text": [
            "Using TensorFlow backend.\n"
          ],
          "name": "stderr"
        },
        {
          "output_type": "display_data",
          "data": {
            "text/html": [
              "<p style=\"color: red;\">\n",
              "The default version of TensorFlow in Colab will soon switch to TensorFlow 2.x.<br>\n",
              "We recommend you <a href=\"https://www.tensorflow.org/guide/migrate\" target=\"_blank\">upgrade</a> now \n",
              "or ensure your notebook will continue to use TensorFlow 1.x via the <code>%tensorflow_version 1.x</code> magic:\n",
              "<a href=\"https://colab.research.google.com/notebooks/tensorflow_version.ipynb\" target=\"_blank\">more info</a>.</p>\n"
            ],
            "text/plain": [
              "<IPython.core.display.HTML object>"
            ]
          },
          "metadata": {
            "tags": []
          }
        }
      ]
    },
    {
      "cell_type": "code",
      "metadata": {
        "id": "6nQg1KJ-hpfg",
        "colab_type": "code",
        "colab": {}
      },
      "source": [
        "BASE_PATH = 'gdrive/My Drive/kaggle/'\n",
        "train_df = pd.read_csv(os.path.join(BASE_PATH,'train.csv'))\n",
        "test_df = pd.read_csv(os.path.join(BASE_PATH,'test.csv'))\n",
        "class_map_df = pd.read_csv(os.path.join(BASE_PATH,'class_map.csv'))\n",
        "sample_sub_df = pd.read_csv(os.path.join(BASE_PATH,'sample_submission.csv'))"
      ],
      "execution_count": 0,
      "outputs": []
    },
    {
      "cell_type": "code",
      "metadata": {
        "id": "3BaTaxOviI66",
        "colab_type": "code",
        "colab": {
          "base_uri": "https://localhost:8080/",
          "height": 173
        },
        "outputId": "d37c3845-9916-4340-d941-19e9e0485208"
      },
      "source": [
        "tgt_cols = ['grapheme_root','vowel_diacritic','consonant_diacritic']\n",
        "desc_df = train_df[tgt_cols].astype('str').describe()\n",
        "desc_df"
      ],
      "execution_count": 3,
      "outputs": [
        {
          "output_type": "execute_result",
          "data": {
            "text/html": [
              "<div>\n",
              "<style scoped>\n",
              "    .dataframe tbody tr th:only-of-type {\n",
              "        vertical-align: middle;\n",
              "    }\n",
              "\n",
              "    .dataframe tbody tr th {\n",
              "        vertical-align: top;\n",
              "    }\n",
              "\n",
              "    .dataframe thead th {\n",
              "        text-align: right;\n",
              "    }\n",
              "</style>\n",
              "<table border=\"1\" class=\"dataframe\">\n",
              "  <thead>\n",
              "    <tr style=\"text-align: right;\">\n",
              "      <th></th>\n",
              "      <th>grapheme_root</th>\n",
              "      <th>vowel_diacritic</th>\n",
              "      <th>consonant_diacritic</th>\n",
              "    </tr>\n",
              "  </thead>\n",
              "  <tbody>\n",
              "    <tr>\n",
              "      <th>count</th>\n",
              "      <td>200840</td>\n",
              "      <td>200840</td>\n",
              "      <td>200840</td>\n",
              "    </tr>\n",
              "    <tr>\n",
              "      <th>unique</th>\n",
              "      <td>168</td>\n",
              "      <td>11</td>\n",
              "      <td>7</td>\n",
              "    </tr>\n",
              "    <tr>\n",
              "      <th>top</th>\n",
              "      <td>72</td>\n",
              "      <td>0</td>\n",
              "      <td>0</td>\n",
              "    </tr>\n",
              "    <tr>\n",
              "      <th>freq</th>\n",
              "      <td>5736</td>\n",
              "      <td>41508</td>\n",
              "      <td>125278</td>\n",
              "    </tr>\n",
              "  </tbody>\n",
              "</table>\n",
              "</div>"
            ],
            "text/plain": [
              "       grapheme_root vowel_diacritic consonant_diacritic\n",
              "count         200840          200840              200840\n",
              "unique           168              11                   7\n",
              "top               72               0                   0\n",
              "freq            5736           41508              125278"
            ]
          },
          "metadata": {
            "tags": []
          },
          "execution_count": 3
        }
      ]
    },
    {
      "cell_type": "code",
      "metadata": {
        "id": "WRbbXDY4iNer",
        "colab_type": "code",
        "colab": {}
      },
      "source": [
        "types = desc_df.loc['unique',:]"
      ],
      "execution_count": 0,
      "outputs": []
    },
    {
      "cell_type": "code",
      "metadata": {
        "id": "kDv9sifkiwSP",
        "colab_type": "code",
        "colab": {
          "base_uri": "https://localhost:8080/",
          "height": 204
        },
        "outputId": "b3d1c49f-bbbe-424d-889f-0fe678d03676"
      },
      "source": [
        "train_df.head()"
      ],
      "execution_count": 5,
      "outputs": [
        {
          "output_type": "execute_result",
          "data": {
            "text/html": [
              "<div>\n",
              "<style scoped>\n",
              "    .dataframe tbody tr th:only-of-type {\n",
              "        vertical-align: middle;\n",
              "    }\n",
              "\n",
              "    .dataframe tbody tr th {\n",
              "        vertical-align: top;\n",
              "    }\n",
              "\n",
              "    .dataframe thead th {\n",
              "        text-align: right;\n",
              "    }\n",
              "</style>\n",
              "<table border=\"1\" class=\"dataframe\">\n",
              "  <thead>\n",
              "    <tr style=\"text-align: right;\">\n",
              "      <th></th>\n",
              "      <th>image_id</th>\n",
              "      <th>grapheme_root</th>\n",
              "      <th>vowel_diacritic</th>\n",
              "      <th>consonant_diacritic</th>\n",
              "      <th>grapheme</th>\n",
              "    </tr>\n",
              "  </thead>\n",
              "  <tbody>\n",
              "    <tr>\n",
              "      <th>0</th>\n",
              "      <td>Train_0</td>\n",
              "      <td>15</td>\n",
              "      <td>9</td>\n",
              "      <td>5</td>\n",
              "      <td>ক্ট্রো</td>\n",
              "    </tr>\n",
              "    <tr>\n",
              "      <th>1</th>\n",
              "      <td>Train_1</td>\n",
              "      <td>159</td>\n",
              "      <td>0</td>\n",
              "      <td>0</td>\n",
              "      <td>হ</td>\n",
              "    </tr>\n",
              "    <tr>\n",
              "      <th>2</th>\n",
              "      <td>Train_2</td>\n",
              "      <td>22</td>\n",
              "      <td>3</td>\n",
              "      <td>5</td>\n",
              "      <td>খ্রী</td>\n",
              "    </tr>\n",
              "    <tr>\n",
              "      <th>3</th>\n",
              "      <td>Train_3</td>\n",
              "      <td>53</td>\n",
              "      <td>2</td>\n",
              "      <td>2</td>\n",
              "      <td>র্টি</td>\n",
              "    </tr>\n",
              "    <tr>\n",
              "      <th>4</th>\n",
              "      <td>Train_4</td>\n",
              "      <td>71</td>\n",
              "      <td>9</td>\n",
              "      <td>5</td>\n",
              "      <td>থ্রো</td>\n",
              "    </tr>\n",
              "  </tbody>\n",
              "</table>\n",
              "</div>"
            ],
            "text/plain": [
              "  image_id  grapheme_root  vowel_diacritic  consonant_diacritic grapheme\n",
              "0  Train_0             15                9                    5   ক্ট্রো\n",
              "1  Train_1            159                0                    0        হ\n",
              "2  Train_2             22                3                    5     খ্রী\n",
              "3  Train_3             53                2                    2     র্টি\n",
              "4  Train_4             71                9                    5     থ্রো"
            ]
          },
          "metadata": {
            "tags": []
          },
          "execution_count": 5
        }
      ]
    },
    {
      "cell_type": "code",
      "metadata": {
        "id": "LZK3GSBsiwXe",
        "colab_type": "code",
        "colab": {}
      },
      "source": [
        "# TRAIN = [BASE_PATH + 'train_image_data_0.parquet',\n",
        "#          BASE_PATH + 'train_image_data_1.parquet',\n",
        "#          BASE_PATH + 'train_image_data_2.parquet',\n",
        "#          BASE_PATH + 'train_image_data_3.parquet']\n",
        "\n",
        "# img_df1 = pd.read_parquet(TRAIN[0])\n",
        "# img_df1 = img_df1.drop(['image_id'], axis = 1)\n",
        "# img_df1 = img_df1.values\n",
        "# np.save(BASE_PATH + 'train_images1.npy', img_df1)\n",
        "# del img_df1\n",
        "# gc.collect()\n",
        "# img_df2 = pd.read_parquet(TRAIN[1])\n",
        "# img_df2 = img_df2.drop(['image_id'], axis = 1)\n",
        "# img_df2 = img_df2.values\n",
        "# np.save(BASE_PATH + 'train_images2.npy', img_df2)\n",
        "# del img_df2\n",
        "# gc.collect()\n",
        "# img_df3 = pd.read_parquet(TRAIN[2])\n",
        "# img_df3 = img_df3.drop(['image_id'], axis = 1)\n",
        "# img_df3 = img_df3.values\n",
        "# np.save(BASE_PATH + 'train_images3.npy', img_df3)\n",
        "# del img_df3\n",
        "# gc.collect()\n",
        "# img_df4 = pd.read_parquet(TRAIN[3])\n",
        "# img_df4 = img_df4.drop(['image_id'], axis = 1)\n",
        "# img_df4 = img_df4.values\n",
        "# np.save(BASE_PATH + 'train_images4.npy', img_df4)\n",
        "# del img_df4\n",
        "# gc.collect()"
      ],
      "execution_count": 0,
      "outputs": []
    },
    {
      "cell_type": "code",
      "metadata": {
        "id": "w1gB7kkynGQ5",
        "colab_type": "code",
        "colab": {}
      },
      "source": [
        "root = train_df[\"grapheme_root\"].values\n",
        "vowel = train_df[\"vowel_diacritic\"].values\n",
        "consonent = train_df[\"consonant_diacritic\"].values"
      ],
      "execution_count": 0,
      "outputs": []
    },
    {
      "cell_type": "code",
      "metadata": {
        "id": "bu35BDRSiwaM",
        "colab_type": "code",
        "colab": {
          "base_uri": "https://localhost:8080/",
          "height": 34
        },
        "outputId": "76b21f86-14a1-442b-b303-5f70c63846cb"
      },
      "source": [
        "data = np.load(BASE_PATH + \"train_images1.npy\")\n",
        "#AUGMENTATIONS\n",
        "ss = ShiftScaleRotate(rotate_limit=12)\n",
        "cc = CenterCrop(p = 1.0, height=120, width=210)\n",
        "rs = Resize(height=100, width=100, p=1.0)\n",
        "hf = HorizontalFlip()\n",
        "vf = VerticalFlip()\n",
        "augs = Compose([ss, cc, rs, hf, vf], p = 1.0)\n",
        "label_index = 0 #+ 50210 + 50210 + 50210\n",
        "for k in tqdm(range(0, data.shape[0]), total=data.shape[0]):\n",
        "    x = data[k, :]\n",
        "    x = np.reshape(x, newshape=(137, 236))\n",
        "    n = augs(image=x)[\"image\"]\n",
        "    name = \"train_images_100_100/\" + str(label_index+k) + \"_\" + str(root[label_index+k])+\"_\"+str(vowel[label_index+k])+\"_\"+str(consonent[label_index+k])+\".npy\"\n",
        "    np.save(file=name, arr=n)"
      ],
      "execution_count": 9,
      "outputs": [
        {
          "output_type": "stream",
          "text": [
            "100%|██████████| 50210/50210 [00:40<00:00, 1247.07it/s]\n"
          ],
          "name": "stderr"
        }
      ]
    },
    {
      "cell_type": "code",
      "metadata": {
        "id": "A_mnyP46odI8",
        "colab_type": "code",
        "colab": {
          "base_uri": "https://localhost:8080/",
          "height": 34
        },
        "outputId": "7d4aa499-647d-4da1-939a-f8d27633fd40"
      },
      "source": [
        "del data\n",
        "gc.collect()"
      ],
      "execution_count": 10,
      "outputs": [
        {
          "output_type": "execute_result",
          "data": {
            "text/plain": [
              "0"
            ]
          },
          "metadata": {
            "tags": []
          },
          "execution_count": 10
        }
      ]
    },
    {
      "cell_type": "code",
      "metadata": {
        "id": "F8BVunAViwct",
        "colab_type": "code",
        "colab": {
          "base_uri": "https://localhost:8080/",
          "height": 51
        },
        "outputId": "d7f7004e-7917-4369-f495-64a0efae7b11"
      },
      "source": [
        "data = np.load(BASE_PATH + \"train_images2.npy\")\n",
        "#AUGMENTATIONS\n",
        "ss = ShiftScaleRotate(rotate_limit=12)\n",
        "cc = CenterCrop(p = 1.0, height=120, width=210)\n",
        "rs = Resize(height=100, width=100, p=1.0)\n",
        "hf = HorizontalFlip()\n",
        "vf = VerticalFlip()\n",
        "augs = Compose([ss, cc, rs, hf, vf], p = 1.0)\n",
        "label_index = 0 + 50210 #+ 50210 + 50210\n",
        "for k in tqdm(range(0, data.shape[0]), total=data.shape[0]):\n",
        "    x = data[k, :]\n",
        "    x = np.reshape(x, newshape=(137, 236))\n",
        "    n = augs(image=x)[\"image\"]\n",
        "    name = \"train_images_100_100/\" + str(label_index+k) + \"_\" + str(root[label_index+k])+\"_\"+str(vowel[label_index+k])+\"_\"+str(consonent[label_index+k])+\".npy\"\n",
        "    np.save(file=name, arr=n)\n",
        "del data\n",
        "gc.collect()"
      ],
      "execution_count": 11,
      "outputs": [
        {
          "output_type": "stream",
          "text": [
            "100%|██████████| 50210/50210 [00:55<00:00, 902.66it/s]\n"
          ],
          "name": "stderr"
        },
        {
          "output_type": "execute_result",
          "data": {
            "text/plain": [
              "0"
            ]
          },
          "metadata": {
            "tags": []
          },
          "execution_count": 11
        }
      ]
    },
    {
      "cell_type": "code",
      "metadata": {
        "id": "1UEKAgh0o6HC",
        "colab_type": "code",
        "colab": {
          "base_uri": "https://localhost:8080/",
          "height": 51
        },
        "outputId": "b10dcbdd-157a-461c-965e-23a3458f6ba7"
      },
      "source": [
        "data = np.load(BASE_PATH + \"train_images3.npy\")\n",
        "#AUGMENTATIONS\n",
        "ss = ShiftScaleRotate(rotate_limit=12)\n",
        "cc = CenterCrop(p = 1.0, height=120, width=210)\n",
        "rs = Resize(height=100, width=100, p=1.0)\n",
        "hf = HorizontalFlip()\n",
        "vf = VerticalFlip()\n",
        "augs = Compose([ss, cc, rs, hf, vf], p = 1.0)\n",
        "label_index = 0 + 50210 + 50210 #+ 50210\n",
        "for k in tqdm(range(0, data.shape[0]), total=data.shape[0]):\n",
        "    x = data[k, :]\n",
        "    x = np.reshape(x, newshape=(137, 236))\n",
        "    n = augs(image=x)[\"image\"]\n",
        "    name = \"train_images_100_100/\" + str(label_index+k) + \"_\" + str(root[label_index+k])+\"_\"+str(vowel[label_index+k])+\"_\"+str(consonent[label_index+k])+\".npy\"\n",
        "    np.save(file=name, arr=n)\n",
        "del data\n",
        "gc.collect()"
      ],
      "execution_count": 12,
      "outputs": [
        {
          "output_type": "stream",
          "text": [
            "100%|██████████| 50210/50210 [00:39<00:00, 1269.72it/s]\n"
          ],
          "name": "stderr"
        },
        {
          "output_type": "execute_result",
          "data": {
            "text/plain": [
              "25"
            ]
          },
          "metadata": {
            "tags": []
          },
          "execution_count": 12
        }
      ]
    },
    {
      "cell_type": "code",
      "metadata": {
        "id": "eWsqlqYQo6Mg",
        "colab_type": "code",
        "colab": {
          "base_uri": "https://localhost:8080/",
          "height": 51
        },
        "outputId": "1935ae51-b577-4454-fe5a-d7c6668129fc"
      },
      "source": [
        "data = np.load(BASE_PATH + \"train_images4.npy\")\n",
        "#AUGMENTATIONS\n",
        "ss = ShiftScaleRotate(rotate_limit=12)\n",
        "cc = CenterCrop(p = 1.0, height=120, width=210)\n",
        "rs = Resize(height=100, width=100, p=1.0)\n",
        "hf = HorizontalFlip()\n",
        "vf = VerticalFlip()\n",
        "augs = Compose([ss, cc, rs, hf, vf], p = 1.0)\n",
        "label_index = 0 + 50210 + 50210 + 50210\n",
        "for k in tqdm(range(0, data.shape[0]), total=data.shape[0]):\n",
        "    x = data[k, :]\n",
        "    x = np.reshape(x, newshape=(137, 236))\n",
        "    n = augs(image=x)[\"image\"]\n",
        "    name = \"train_images_100_100/\" + str(label_index+k) + \"_\" + str(root[label_index+k])+\"_\"+str(vowel[label_index+k])+\"_\"+str(consonent[label_index+k])+\".npy\"\n",
        "    np.save(file=name, arr=n)\n",
        "del data\n",
        "gc.collect()"
      ],
      "execution_count": 13,
      "outputs": [
        {
          "output_type": "stream",
          "text": [
            "100%|██████████| 50210/50210 [00:55<00:00, 910.27it/s]\n"
          ],
          "name": "stderr"
        },
        {
          "output_type": "execute_result",
          "data": {
            "text/plain": [
              "25"
            ]
          },
          "metadata": {
            "tags": []
          },
          "execution_count": 13
        }
      ]
    },
    {
      "cell_type": "code",
      "metadata": {
        "id": "qB3Yu-OEo6Pq",
        "colab_type": "code",
        "colab": {
          "base_uri": "https://localhost:8080/",
          "height": 204
        },
        "outputId": "7ebe084c-ee0b-412e-83e2-404c9d0f8882"
      },
      "source": [
        "FOLDER_TRAIN = \"train_images_100_100/\"\n",
        "files = os.listdir(FOLDER_TRAIN)\n",
        "data = pd.DataFrame()\n",
        "data[\"file_names\"] = files\n",
        "data[\"file_names\"] = FOLDER_TRAIN + data[\"file_names\"]\n",
        "data.head()"
      ],
      "execution_count": 14,
      "outputs": [
        {
          "output_type": "execute_result",
          "data": {
            "text/html": [
              "<div>\n",
              "<style scoped>\n",
              "    .dataframe tbody tr th:only-of-type {\n",
              "        vertical-align: middle;\n",
              "    }\n",
              "\n",
              "    .dataframe tbody tr th {\n",
              "        vertical-align: top;\n",
              "    }\n",
              "\n",
              "    .dataframe thead th {\n",
              "        text-align: right;\n",
              "    }\n",
              "</style>\n",
              "<table border=\"1\" class=\"dataframe\">\n",
              "  <thead>\n",
              "    <tr style=\"text-align: right;\">\n",
              "      <th></th>\n",
              "      <th>file_names</th>\n",
              "    </tr>\n",
              "  </thead>\n",
              "  <tbody>\n",
              "    <tr>\n",
              "      <th>0</th>\n",
              "      <td>train_images_100_100/134794_18_3_0.npy</td>\n",
              "    </tr>\n",
              "    <tr>\n",
              "      <th>1</th>\n",
              "      <td>train_images_100_100/95033_22_1_0.npy</td>\n",
              "    </tr>\n",
              "    <tr>\n",
              "      <th>2</th>\n",
              "      <td>train_images_100_100/131707_65_3_2.npy</td>\n",
              "    </tr>\n",
              "    <tr>\n",
              "      <th>3</th>\n",
              "      <td>train_images_100_100/196501_107_4_4.npy</td>\n",
              "    </tr>\n",
              "    <tr>\n",
              "      <th>4</th>\n",
              "      <td>train_images_100_100/155010_38_5_0.npy</td>\n",
              "    </tr>\n",
              "  </tbody>\n",
              "</table>\n",
              "</div>"
            ],
            "text/plain": [
              "                                file_names\n",
              "0   train_images_100_100/134794_18_3_0.npy\n",
              "1    train_images_100_100/95033_22_1_0.npy\n",
              "2   train_images_100_100/131707_65_3_2.npy\n",
              "3  train_images_100_100/196501_107_4_4.npy\n",
              "4   train_images_100_100/155010_38_5_0.npy"
            ]
          },
          "metadata": {
            "tags": []
          },
          "execution_count": 14
        }
      ]
    },
    {
      "cell_type": "code",
      "metadata": {
        "id": "WS9_2OshqLf8",
        "colab_type": "code",
        "colab": {
          "base_uri": "https://localhost:8080/",
          "height": 204
        },
        "outputId": "35073fa6-1347-4bc8-ea65-609b2053b7de"
      },
      "source": [
        "x = data[\"file_names\"].str.split(\".\", n = 1, expand = True)\n",
        "x = x[x.columns[0]]\n",
        "x = x.str.split(\"_\", n = 7, expand = True)\n",
        "data[\"root\"] = x[x.columns[4]]\n",
        "data[\"vowel\"] = x[x.columns[5]]\n",
        "data[\"consonent\"] = x[x.columns[6]]\n",
        "data.head()"
      ],
      "execution_count": 15,
      "outputs": [
        {
          "output_type": "execute_result",
          "data": {
            "text/html": [
              "<div>\n",
              "<style scoped>\n",
              "    .dataframe tbody tr th:only-of-type {\n",
              "        vertical-align: middle;\n",
              "    }\n",
              "\n",
              "    .dataframe tbody tr th {\n",
              "        vertical-align: top;\n",
              "    }\n",
              "\n",
              "    .dataframe thead th {\n",
              "        text-align: right;\n",
              "    }\n",
              "</style>\n",
              "<table border=\"1\" class=\"dataframe\">\n",
              "  <thead>\n",
              "    <tr style=\"text-align: right;\">\n",
              "      <th></th>\n",
              "      <th>file_names</th>\n",
              "      <th>root</th>\n",
              "      <th>vowel</th>\n",
              "      <th>consonent</th>\n",
              "    </tr>\n",
              "  </thead>\n",
              "  <tbody>\n",
              "    <tr>\n",
              "      <th>0</th>\n",
              "      <td>train_images_100_100/134794_18_3_0.npy</td>\n",
              "      <td>18</td>\n",
              "      <td>3</td>\n",
              "      <td>0</td>\n",
              "    </tr>\n",
              "    <tr>\n",
              "      <th>1</th>\n",
              "      <td>train_images_100_100/95033_22_1_0.npy</td>\n",
              "      <td>22</td>\n",
              "      <td>1</td>\n",
              "      <td>0</td>\n",
              "    </tr>\n",
              "    <tr>\n",
              "      <th>2</th>\n",
              "      <td>train_images_100_100/131707_65_3_2.npy</td>\n",
              "      <td>65</td>\n",
              "      <td>3</td>\n",
              "      <td>2</td>\n",
              "    </tr>\n",
              "    <tr>\n",
              "      <th>3</th>\n",
              "      <td>train_images_100_100/196501_107_4_4.npy</td>\n",
              "      <td>107</td>\n",
              "      <td>4</td>\n",
              "      <td>4</td>\n",
              "    </tr>\n",
              "    <tr>\n",
              "      <th>4</th>\n",
              "      <td>train_images_100_100/155010_38_5_0.npy</td>\n",
              "      <td>38</td>\n",
              "      <td>5</td>\n",
              "      <td>0</td>\n",
              "    </tr>\n",
              "  </tbody>\n",
              "</table>\n",
              "</div>"
            ],
            "text/plain": [
              "                                file_names root vowel consonent\n",
              "0   train_images_100_100/134794_18_3_0.npy   18     3         0\n",
              "1    train_images_100_100/95033_22_1_0.npy   22     1         0\n",
              "2   train_images_100_100/131707_65_3_2.npy   65     3         2\n",
              "3  train_images_100_100/196501_107_4_4.npy  107     4         4\n",
              "4   train_images_100_100/155010_38_5_0.npy   38     5         0"
            ]
          },
          "metadata": {
            "tags": []
          },
          "execution_count": 15
        }
      ]
    },
    {
      "cell_type": "code",
      "metadata": {
        "id": "Y2FSrA5mqLii",
        "colab_type": "code",
        "colab": {}
      },
      "source": [
        "X = data[\"file_names\"].values\n",
        "y = data[[\"root\", \"vowel\", \"consonent\"]].values"
      ],
      "execution_count": 0,
      "outputs": []
    },
    {
      "cell_type": "code",
      "metadata": {
        "id": "DOLHO16_qLoB",
        "colab_type": "code",
        "colab": {
          "base_uri": "https://localhost:8080/",
          "height": 71
        },
        "outputId": "187c6e65-f5ac-45f6-b480-6c516e9dd8e3"
      },
      "source": [
        "mskf = MultilabelStratifiedKFold(n_splits=5, random_state=0)\n",
        "train_indexes = []\n",
        "test_indexes = []\n",
        "\n",
        "for train_index, test_index in mskf.split(X, y):\n",
        "    train_indexes.append(train_index)\n",
        "    test_indexes.append(test_index)"
      ],
      "execution_count": 17,
      "outputs": [
        {
          "output_type": "stream",
          "text": [
            "/usr/local/lib/python3.6/dist-packages/sklearn/model_selection/_split.py:296: FutureWarning: Setting a random_state has no effect since shuffle is False. This will raise an error in 0.24. You should leave random_state to its default (None), or set shuffle=True.\n",
            "  FutureWarning\n"
          ],
          "name": "stderr"
        }
      ]
    },
    {
      "cell_type": "code",
      "metadata": {
        "id": "SvBlmGubqLqq",
        "colab_type": "code",
        "colab": {
          "base_uri": "https://localhost:8080/",
          "height": 34
        },
        "outputId": "838df0b5-94c1-498f-cbe2-07106d9a754a"
      },
      "source": [
        "del data, x, files\n",
        "gc.collect()"
      ],
      "execution_count": 18,
      "outputs": [
        {
          "output_type": "execute_result",
          "data": {
            "text/plain": [
              "181"
            ]
          },
          "metadata": {
            "tags": []
          },
          "execution_count": 18
        }
      ]
    },
    {
      "cell_type": "code",
      "metadata": {
        "id": "fb9Q_9IIqLtq",
        "colab_type": "code",
        "colab": {}
      },
      "source": [
        "class DataGenerator(keras.utils.Sequence):\n",
        "    'Generates data for Keras'\n",
        "    def __init__(self, list_IDs, labels, batch_size=32, dim=(100, 100), n_channels=1, shuffle=True):\n",
        "        'Initialization'\n",
        "        self.dim = dim\n",
        "        self.batch_size = batch_size\n",
        "        self.labels = labels\n",
        "        self.list_IDs = list_IDs\n",
        "        self.list_IDs_IND = range(0, len(list_IDs))\n",
        "        \n",
        "        self.n_channels = n_channels\n",
        "        self.shuffle = shuffle\n",
        "        self.on_epoch_end()\n",
        "\n",
        "    def __len__(self):\n",
        "        'Denotes the number of batches per epoch'\n",
        "        return int(np.floor(len(self.list_IDs) / self.batch_size))\n",
        "\n",
        "    def __getitem__(self, index):\n",
        "        'Generate one batch of data'\n",
        "        # Generate indexes of the batch\n",
        "        indexes = self.indexes[index*self.batch_size:(index+1)*self.batch_size]\n",
        "\n",
        "        # Find list of IDs\n",
        "        list_IDs_temp = [self.list_IDs_IND[k] for k in indexes]\n",
        "\n",
        "        # Generate data\n",
        "        X, y = self.__data_generation(list_IDs_temp)\n",
        "\n",
        "        return X, y\n",
        "\n",
        "    def on_epoch_end(self):\n",
        "        'Updates indexes after each epoch'\n",
        "        self.indexes = np.arange(len(self.list_IDs))\n",
        "        if self.shuffle == True:\n",
        "            np.random.shuffle(self.indexes)\n",
        "\n",
        "    def __data_generation(self, list_IDs_temp):\n",
        "        'Generates data containing batch_size samples' # X : (n_samples, *dim, n_channels)\n",
        "        # Initialization\n",
        "        X = np.empty((self.batch_size, *self.dim, self.n_channels))\n",
        "\n",
        "        y1 = np.empty((self.batch_size), dtype=int)\n",
        "        y2 = np.empty((self.batch_size), dtype=int)\n",
        "        y3 = np.empty((self.batch_size), dtype=int)\n",
        "\n",
        "        # Generate data\n",
        "        \n",
        "        for i, ID in enumerate(list_IDs_temp):\n",
        "            # Store sample\n",
        "            #print (ID)\n",
        "            X[i, :, :, 0] = np.load(self.list_IDs[ID]) / 255.0\n",
        "\n",
        "            # Store class\n",
        "            temp_y = self.labels[ID]\n",
        "            #print(temp_y)\n",
        "            y1[i] = temp_y[0]\n",
        "            y2[i] = temp_y[1]\n",
        "            y3[i] = temp_y[2]\n",
        "        y1 = keras.utils.to_categorical(y1, num_classes=168)\n",
        "        y2 = keras.utils.to_categorical(y2, num_classes=11)\n",
        "        y3 = keras.utils.to_categorical(y3, num_classes=7)\n",
        "        \n",
        "        return X, [y1, y2, y3]"
      ],
      "execution_count": 0,
      "outputs": []
    },
    {
      "cell_type": "code",
      "metadata": {
        "id": "yXnW6SCeqLyM",
        "colab_type": "code",
        "colab": {}
      },
      "source": [
        ""
      ],
      "execution_count": 0,
      "outputs": []
    },
    {
      "cell_type": "code",
      "metadata": {
        "id": "6hzWPO-piNhY",
        "colab_type": "code",
        "colab": {}
      },
      "source": [
        "HEIGHT = 100\n",
        "WIDTH = 100\n",
        "CHANNELS = 1"
      ],
      "execution_count": 0,
      "outputs": []
    },
    {
      "cell_type": "code",
      "metadata": {
        "id": "LrHLV21ViNkQ",
        "colab_type": "code",
        "colab": {}
      },
      "source": [
        "def create_model(BACKBONE, HEIGHT, WIDTH, CHANNELS, WEIGHTS):\n",
        "    \n",
        "    arch, _ = Classifiers.get(BACKBONE)\n",
        "    model = arch((HEIGHT, WIDTH, CHANNELS), weights=WEIGHTS, include_top=False)\n",
        "    x_Avg = GlobalAveragePooling2D()(model.output)\n",
        "    x_Max = GlobalMaxPooling2D()(model.output)\n",
        "    concat = concatenate([x_Avg, x_Max])\n",
        "    concat = BatchNormalization()(concat)\n",
        "    concat = Dropout(0.5)(concat)\n",
        "    #ROOT\n",
        "    x = Dense(512)(concat)\n",
        "    x = BatchNormalization()(x)\n",
        "    x = Dropout(0.5)(x)\n",
        "    root = Dense(168, activation='sigmoid', name='root')(x)\n",
        "\n",
        "    #VOWEL\n",
        "    x = Dense(512)(concat)\n",
        "    x = BatchNormalization()(x)\n",
        "    x = Dropout(0.5)(x)\n",
        "    vowel = Dense(11, activation='sigmoid', name='vowel')(x)\n",
        "\n",
        "    #CONSONENT\n",
        "    x = Dense(512)(concat)\n",
        "    x = BatchNormalization()(x)\n",
        "    x = Dropout(0.5)(x)\n",
        "    consonent = Dense(7, activation='sigmoid', name='consonent')(x)\n",
        "\n",
        "    model = Model(inputs = [model.input], outputs=[root, vowel, consonent])\n",
        "    return model"
      ],
      "execution_count": 0,
      "outputs": []
    },
    {
      "cell_type": "code",
      "metadata": {
        "id": "K_cqPtlqiNnP",
        "colab_type": "code",
        "colab": {
          "base_uri": "https://localhost:8080/",
          "height": 34
        },
        "outputId": "20509ced-48cd-4788-fb0d-7d648fc9748e"
      },
      "source": [
        "#FIRST FOLD\n",
        "FOLD_NUM = 0\n",
        "X_train, X_test = X[train_indexes[FOLD_NUM]], X[test_indexes[FOLD_NUM]]\n",
        "y_train, y_test = y[train_indexes[FOLD_NUM]], y[test_indexes[FOLD_NUM]]\n",
        "X_train.shape, X_test.shape, y_train.shape, y_test.shape"
      ],
      "execution_count": 22,
      "outputs": [
        {
          "output_type": "execute_result",
          "data": {
            "text/plain": [
              "((160672,), (40168,), (160672, 3), (40168, 3))"
            ]
          },
          "metadata": {
            "tags": []
          },
          "execution_count": 22
        }
      ]
    },
    {
      "cell_type": "code",
      "metadata": {
        "id": "T27mEFh0iNp7",
        "colab_type": "code",
        "colab": {}
      },
      "source": [
        "train_generator = DataGenerator(list_IDs=X_train, labels=y_train, batch_size=32)\n",
        "valid_generator = DataGenerator(list_IDs=X_test, labels=y_test, batch_size=32)"
      ],
      "execution_count": 0,
      "outputs": []
    },
    {
      "cell_type": "code",
      "metadata": {
        "id": "yOsPWax6iNsz",
        "colab_type": "code",
        "colab": {}
      },
      "source": [
        "model = create_model(BACKBONE=\"resnet18\", HEIGHT=HEIGHT, WIDTH=WIDTH, CHANNELS=CHANNELS, WEIGHTS=None)"
      ],
      "execution_count": 0,
      "outputs": []
    },
    {
      "cell_type": "code",
      "metadata": {
        "id": "EJBjFe_8iNvo",
        "colab_type": "code",
        "colab": {}
      },
      "source": [
        "checkpointer = ModelCheckpoint(filepath = 'model_best_root_loss_fold_50' + str(FOLD_NUM) + '.h5',\n",
        "                               verbose=1,\n",
        "                               save_best_only=True, save_weights_only = True)\n",
        "\n",
        "reduce_lr = ReduceLROnPlateau(monitor='val_root_loss', factor=0.8,\n",
        "                              patience=10, min_lr=0.000001, verbose=1, cooldown=1)"
      ],
      "execution_count": 0,
      "outputs": []
    },
    {
      "cell_type": "code",
      "metadata": {
        "id": "InRIYkgwiNyR",
        "colab_type": "code",
        "colab": {}
      },
      "source": [
        "model.compile(optimizer=keras.optimizers.Adam(), \n",
        "              loss={\n",
        "                  'root' :'binary_crossentropy',\n",
        "                   'vowel' :'binary_crossentropy',\n",
        "                   'consonent' :'binary_crossentropy',\n",
        "                  }, \n",
        "                loss_weights = {\n",
        "                    'root' : 0.5,\n",
        "                   'vowel' : 0.35,\n",
        "                   'consonent' : 0.15,\n",
        "                },\n",
        "              metrics=['accuracy'])"
      ],
      "execution_count": 0,
      "outputs": []
    },
    {
      "cell_type": "code",
      "metadata": {
        "id": "dWcxgRdTq0O7",
        "colab_type": "code",
        "colab": {
          "base_uri": "https://localhost:8080/",
          "height": 173
        },
        "outputId": "137b56e7-a584-425d-b034-fc48113ea66a"
      },
      "source": [
        "model.fit_generator(generator=train_generator, epochs=50, validation_data=valid_generator)"
      ],
      "execution_count": 0,
      "outputs": [
        {
          "output_type": "stream",
          "text": [
            "WARNING:tensorflow:From /usr/local/lib/python3.6/dist-packages/keras/backend/tensorflow_backend.py:1033: The name tf.assign_add is deprecated. Please use tf.compat.v1.assign_add instead.\n",
            "\n",
            "WARNING:tensorflow:From /usr/local/lib/python3.6/dist-packages/keras/backend/tensorflow_backend.py:1020: The name tf.assign is deprecated. Please use tf.compat.v1.assign instead.\n",
            "\n",
            "Epoch 1/50\n",
            "5021/5021 [==============================] - 390s 78ms/step - loss: 0.1306 - root_loss: 0.0522 - vowel_loss: 0.1896 - consonent_loss: 0.2545 - root_acc: 0.9878 - vowel_acc: 0.9295 - consonent_acc: 0.8982 - val_loss: 0.1113 - val_root_loss: 0.0399 - val_vowel_loss: 0.1767 - val_consonent_loss: 0.1968 - val_root_acc: 0.9940 - val_vowel_acc: 0.9410 - val_consonent_acc: 0.9217\n",
            "Epoch 2/50\n",
            "3668/5021 [====================>.........] - ETA: 1:32 - loss: 0.0675 - root_loss: 0.0315 - vowel_loss: 0.0871 - consonent_loss: 0.1416 - root_acc: 0.9940 - vowel_acc: 0.9675 - consonent_acc: 0.9449"
          ],
          "name": "stdout"
        }
      ]
    },
    {
      "cell_type": "code",
      "metadata": {
        "id": "xAAmOt7iq8Gb",
        "colab_type": "code",
        "colab": {}
      },
      "source": [
        ""
      ],
      "execution_count": 0,
      "outputs": []
    }
  ]
}