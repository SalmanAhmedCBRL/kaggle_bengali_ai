{
 "cells": [
  {
   "cell_type": "code",
   "execution_count": 1,
   "metadata": {},
   "outputs": [
    {
     "name": "stderr",
     "output_type": "stream",
     "text": [
      "Using TensorFlow backend.\n"
     ]
    }
   ],
   "source": [
    "import pandas as pd\n",
    "import numpy as np\n",
    "import os\n",
    "import gc\n",
    "import keras\n",
    "import albumentations\n",
    "from tqdm import tqdm\n",
    "import warnings\n",
    "from albumentations import Resize, CenterCrop, Rotate, HorizontalFlip, VerticalFlip, OneOf, Compose"
   ]
  },
  {
   "cell_type": "code",
   "execution_count": 2,
   "metadata": {},
   "outputs": [],
   "source": [
    "data = np.load(\"train_images3.npy\")"
   ]
  },
  {
   "cell_type": "code",
   "execution_count": 3,
   "metadata": {},
   "outputs": [
    {
     "data": {
      "text/plain": [
       "(50210, 32332)"
      ]
     },
     "execution_count": 3,
     "metadata": {},
     "output_type": "execute_result"
    }
   ],
   "source": [
    "data.shape"
   ]
  },
  {
   "cell_type": "code",
   "execution_count": 4,
   "metadata": {},
   "outputs": [
    {
     "name": "stderr",
     "output_type": "stream",
     "text": [
      "100%|██████████| 50210/50210 [00:50<00:00, 1000.85it/s]\n"
     ]
    }
   ],
   "source": [
    "y = pd.read_csv(\"train.csv\")\n",
    "root = y.pop(\"grapheme_root\").values\n",
    "vowel = y.pop(\"vowel_diacritic\").values\n",
    "consonent = y.pop(\"consonant_diacritic\").values\n",
    "#AUGMENTATIONS\n",
    "cc = CenterCrop(p = 1.0, height=120, width=210)\n",
    "rs = Resize(height=100, width=100, p=1.0)\n",
    "hf = HorizontalFlip()\n",
    "vf = VerticalFlip()\n",
    "rt = Rotate(p = 0.6)\n",
    "augs = Compose([cc, rs, rt, hf, vf], p = 1.0)\n",
    "label_index = 0 + 50210 + 50210 + 50210\n",
    "for k in tqdm(range(0, data.shape[0]), total=data.shape[0]):\n",
    "    x = data[k, :]\n",
    "    x = np.reshape(x, newshape=(137, 236))\n",
    "    n = augs(image=x)[\"image\"]\n",
    "    name = \"train_images_100_100/\" + str(label_index+k) + \"_\" + str(root[label_index+k])+\"_\"+str(vowel[label_index+k])+\"_\"+str(consonent[label_index+k])+\".npy\"\n",
    "    np.save(file=name, arr=n)"
   ]
  },
  {
   "cell_type": "code",
   "execution_count": null,
   "metadata": {},
   "outputs": [],
   "source": []
  },
  {
   "cell_type": "code",
   "execution_count": null,
   "metadata": {},
   "outputs": [],
   "source": []
  },
  {
   "cell_type": "code",
   "execution_count": null,
   "metadata": {},
   "outputs": [],
   "source": []
  }
 ],
 "metadata": {
  "kernelspec": {
   "display_name": "Python 3",
   "language": "python",
   "name": "python3"
  },
  "language_info": {
   "codemirror_mode": {
    "name": "ipython",
    "version": 3
   },
   "file_extension": ".py",
   "mimetype": "text/x-python",
   "name": "python",
   "nbconvert_exporter": "python",
   "pygments_lexer": "ipython3",
   "version": "3.7.3"
  }
 },
 "nbformat": 4,
 "nbformat_minor": 2
}
